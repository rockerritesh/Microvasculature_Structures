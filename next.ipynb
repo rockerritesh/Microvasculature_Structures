{
 "cells": [
  {
   "cell_type": "code",
   "execution_count": 1,
   "id": "968b93c2",
   "metadata": {},
   "outputs": [],
   "source": [
    "import pandas as pd\n",
    "import json\n",
    "import numpy as np\n",
    "from PIL import Image"
   ]
  },
  {
   "cell_type": "code",
   "execution_count": 2,
   "id": "027bede4",
   "metadata": {},
   "outputs": [],
   "source": [
    "data = []\n",
    "with open('polygons.jsonl','r') as file:\n",
    "    for line in file:\n",
    "        item = json.loads(line)\n",
    "        data.append(item)\n",
    "    "
   ]
  },
  {
   "cell_type": "code",
   "execution_count": 3,
   "id": "53e4398c",
   "metadata": {},
   "outputs": [
    {
     "data": {
      "text/html": [
       "<div>\n",
       "<style scoped>\n",
       "    .dataframe tbody tr th:only-of-type {\n",
       "        vertical-align: middle;\n",
       "    }\n",
       "\n",
       "    .dataframe tbody tr th {\n",
       "        vertical-align: top;\n",
       "    }\n",
       "\n",
       "    .dataframe thead th {\n",
       "        text-align: right;\n",
       "    }\n",
       "</style>\n",
       "<table border=\"1\" class=\"dataframe\">\n",
       "  <thead>\n",
       "    <tr style=\"text-align: right;\">\n",
       "      <th></th>\n",
       "      <th>id</th>\n",
       "      <th>annotations</th>\n",
       "    </tr>\n",
       "  </thead>\n",
       "  <tbody>\n",
       "    <tr>\n",
       "      <th>0</th>\n",
       "      <td>0006ff2aa7cd</td>\n",
       "      <td>[{'type': 'glomerulus', 'coordinates': [[[167,...</td>\n",
       "    </tr>\n",
       "    <tr>\n",
       "      <th>1</th>\n",
       "      <td>00168d1b7522</td>\n",
       "      <td>[{'type': 'glomerulus', 'coordinates': [[[511,...</td>\n",
       "    </tr>\n",
       "    <tr>\n",
       "      <th>2</th>\n",
       "      <td>0033bbc76b6b</td>\n",
       "      <td>[{'type': 'blood_vessel', 'coordinates': [[[16...</td>\n",
       "    </tr>\n",
       "    <tr>\n",
       "      <th>3</th>\n",
       "      <td>003504460b3a</td>\n",
       "      <td>[{'type': 'blood_vessel', 'coordinates': [[[40...</td>\n",
       "    </tr>\n",
       "    <tr>\n",
       "      <th>4</th>\n",
       "      <td>004daf1cbe75</td>\n",
       "      <td>[{'type': 'blood_vessel', 'coordinates': [[[14...</td>\n",
       "    </tr>\n",
       "    <tr>\n",
       "      <th>...</th>\n",
       "      <td>...</td>\n",
       "      <td>...</td>\n",
       "    </tr>\n",
       "    <tr>\n",
       "      <th>1628</th>\n",
       "      <td>ff434af74304</td>\n",
       "      <td>[{'type': 'blood_vessel', 'coordinates': [[[29...</td>\n",
       "    </tr>\n",
       "    <tr>\n",
       "      <th>1629</th>\n",
       "      <td>ff4897b3eda6</td>\n",
       "      <td>[{'type': 'blood_vessel', 'coordinates': [[[29...</td>\n",
       "    </tr>\n",
       "    <tr>\n",
       "      <th>1630</th>\n",
       "      <td>ff66dec71c4c</td>\n",
       "      <td>[{'type': 'blood_vessel', 'coordinates': [[[11...</td>\n",
       "    </tr>\n",
       "    <tr>\n",
       "      <th>1631</th>\n",
       "      <td>ff99cdef0f2a</td>\n",
       "      <td>[{'type': 'blood_vessel', 'coordinates': [[[24...</td>\n",
       "    </tr>\n",
       "    <tr>\n",
       "      <th>1632</th>\n",
       "      <td>ffd3d193c71e</td>\n",
       "      <td>[{'type': 'glomerulus', 'coordinates': [[[450,...</td>\n",
       "    </tr>\n",
       "  </tbody>\n",
       "</table>\n",
       "<p>1633 rows × 2 columns</p>\n",
       "</div>"
      ],
      "text/plain": [
       "                id                                        annotations\n",
       "0     0006ff2aa7cd  [{'type': 'glomerulus', 'coordinates': [[[167,...\n",
       "1     00168d1b7522  [{'type': 'glomerulus', 'coordinates': [[[511,...\n",
       "2     0033bbc76b6b  [{'type': 'blood_vessel', 'coordinates': [[[16...\n",
       "3     003504460b3a  [{'type': 'blood_vessel', 'coordinates': [[[40...\n",
       "4     004daf1cbe75  [{'type': 'blood_vessel', 'coordinates': [[[14...\n",
       "...            ...                                                ...\n",
       "1628  ff434af74304  [{'type': 'blood_vessel', 'coordinates': [[[29...\n",
       "1629  ff4897b3eda6  [{'type': 'blood_vessel', 'coordinates': [[[29...\n",
       "1630  ff66dec71c4c  [{'type': 'blood_vessel', 'coordinates': [[[11...\n",
       "1631  ff99cdef0f2a  [{'type': 'blood_vessel', 'coordinates': [[[24...\n",
       "1632  ffd3d193c71e  [{'type': 'glomerulus', 'coordinates': [[[450,...\n",
       "\n",
       "[1633 rows x 2 columns]"
      ]
     },
     "execution_count": 3,
     "metadata": {},
     "output_type": "execute_result"
    }
   ],
   "source": [
    "json_df = pd.DataFrame(data)\n",
    "json_df"
   ]
  },
  {
   "cell_type": "code",
   "execution_count": 4,
   "id": "a350220c",
   "metadata": {},
   "outputs": [],
   "source": [
    "import os\n",
    "\n",
    "# Create the \"Image\" folder if it doesn't exist\n",
    "image_folder = \"Image_glomerulus\"\n",
    "os.makedirs(image_folder, exist_ok=True)\n",
    "\n",
    "\n",
    "\n",
    "for i in range(len(json_df)):\n",
    "    mask = np.zeros((512,512))\n",
    "    name_id = json_df['id'][i]\n",
    "    for annot in json_df['annotations'][i]:\n",
    "        cords = annot['coordinates']\n",
    "        if annot['type'] == \"glomerulus\":\n",
    "            for cd in cords:\n",
    "                rr, cc = np.array([i[1] for i in cd]), np.asarray([i[0] for i in cd])\n",
    "                mask[rr, cc] = 1\n",
    "    mask_image = Image.fromarray(mask.astype(np.uint8) * 255)\n",
    "    mask_image\n",
    "    \n",
    "    # Define the file path for saving the mask image\n",
    "    mask_image_path = os.path.join(image_folder, f\"{name_id}.png\")\n",
    "\n",
    "    # Save the mask image\n",
    "    mask_image.save(mask_image_path)"
   ]
  },
  {
   "cell_type": "code",
   "execution_count": 5,
   "id": "5bf2396c",
   "metadata": {},
   "outputs": [
    {
     "data": {
      "image/png": "[encoded data removed]",
      "text/plain": [
       "<PIL.Image.Image image mode=L size=512x512>"
      ]
     },
     "execution_count": 5,
     "metadata": {},
     "output_type": "execute_result"
    }
   ],
   "source": [
    "mask_image = Image.fromarray(mask.astype(np.uint8) * 255)\n",
    "mask_image"
   ]
  },
  {
   "cell_type": "code",
   "execution_count": null,
   "id": "0ad8bd05",
   "metadata": {},
   "outputs": [],
   "source": []
  }
 ],
 "metadata": {
  "kernelspec": {
   "display_name": "Python 3 (ipykernel)",
   "language": "python",
   "name": "python3"
  },
  "language_info": {
   "codemirror_mode": {
    "name": "ipython",
    "version": 3
   },
   "file_extension": ".py",
   "mimetype": "text/x-python",
   "name": "python",
   "nbconvert_exporter": "python",
   "pygments_lexer": "ipython3",
   "version": "3.11.3"
  }
 },
 "nbformat": 4,
 "nbformat_minor": 5
}
